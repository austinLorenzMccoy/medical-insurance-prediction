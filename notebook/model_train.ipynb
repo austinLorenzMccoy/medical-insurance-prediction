{
 "cells": [
  {
   "cell_type": "code",
   "execution_count": 1,
   "metadata": {},
   "outputs": [],
   "source": [
    "import pandas as pd\n",
    "import numpy as np\n",
    "from sklearn.model_selection import train_test_split\n",
    "from sklearn.preprocessing import StandardScaler, OneHotEncoder\n",
    "from sklearn.compose import ColumnTransformer\n",
    "from sklearn.pipeline import Pipeline\n",
    "from sklearn.linear_model import LinearRegression\n",
    "from sklearn.metrics import r2_score, mean_squared_error, mean_absolute_error\n",
    "import seaborn as sns\n",
    "import matplotlib.pyplot as plt\n"
   ]
  },
  {
   "cell_type": "markdown",
   "metadata": {},
   "source": [
    "#### Import the CSV Data as Pandas DataFrame"
   ]
  },
  {
   "cell_type": "code",
   "execution_count": 6,
   "metadata": {},
   "outputs": [],
   "source": [
    "df = pd.read_csv('data/medical_insurance.csv')"
   ]
  },
  {
   "cell_type": "markdown",
   "metadata": {},
   "source": [
    "#### 1. Data Preprocessing"
   ]
  },
  {
   "cell_type": "code",
   "execution_count": null,
   "metadata": {},
   "outputs": [],
   "source": [
    "\n",
    "\n",
    "def preprocess_data(df):\n",
    "    # Create a copy to avoid modifying original data\n",
    "    df_processed = df.copy()\n",
    "    \n",
    "    # Log transform the target variable (charges) due to right skew\n",
    "    df_processed['charges_log'] = np.log(df_processed['charges'])\n",
    "    \n",
    "    # Create interaction terms\n",
    "    df_processed['age_bmi'] = df_processed['age'] * df_processed['bmi']\n",
    "    df_processed['smoker_bmi'] = (df_processed['smoker'] == 'yes').astype(int) * df_processed['bmi']\n",
    "    \n",
    "    return df_processed\n",
    "\n"
   ]
  },
  {
   "cell_type": "markdown",
   "metadata": {},
   "source": [
    "####  2. Feature Engineering"
   ]
  },
  {
   "cell_type": "code",
   "execution_count": null,
   "metadata": {},
   "outputs": [],
   "source": [
    "\n",
    "\n",
    "def create_feature_pipeline():\n",
    "    # Define numeric and categorical columns\n",
    "    numeric_features = ['age', 'bmi', 'children', 'age_bmi', 'smoker_bmi']\n",
    "    categorical_features = ['sex', 'smoker', 'region']\n",
    "    \n",
    "    # Create preprocessing pipelines for numeric and categorical data\n",
    "    numeric_transformer = StandardScaler()\n",
    "    categorical_transformer = OneHotEncoder(drop='first', sparse_output=False)\n",
    "    \n",
    "    # Combine transformers\n",
    "    preprocessor = ColumnTransformer(\n",
    "        transformers=[\n",
    "            ('num', numeric_transformer, numeric_features),\n",
    "            ('cat', categorical_transformer, categorical_features)\n",
    "        ])\n",
    "    \n",
    "    return preprocessor\n",
    "\n"
   ]
  },
  {
   "cell_type": "markdown",
   "metadata": {},
   "source": [
    "#### 3. Model Building and Evaluation"
   ]
  },
  {
   "cell_type": "code",
   "execution_count": null,
   "metadata": {},
   "outputs": [],
   "source": [
    "\n",
    "def build_and_evaluate_model(df_processed):\n",
    "    # Prepare features and target\n",
    "    X = df_processed.drop(['charges', 'charges_log'], axis=1)\n",
    "    y = df_processed['charges_log']\n",
    "    \n",
    "    # Split the data\n",
    "    X_train, X_test, y_train, y_test = train_test_split(X, y, test_size=0.2, random_state=42)\n",
    "    \n",
    "    # Create pipeline\n",
    "    preprocessor = create_feature_pipeline()\n",
    "    model = Pipeline([\n",
    "        ('preprocessor', preprocessor),\n",
    "        ('regressor', LinearRegression())\n",
    "    ])\n",
    "    \n",
    "    # Fit the model\n",
    "    model.fit(X_train, y_train)\n",
    "    \n",
    "    # Make predictions\n",
    "    y_pred_train = model.predict(X_train)\n",
    "    y_pred_test = model.predict(X_test)\n",
    "    \n",
    "    # Calculate metrics\n",
    "    metrics = {\n",
    "        'R2 Score (Train)': r2_score(y_train, y_pred_train),\n",
    "        'R2 Score (Test)': r2_score(y_test, y_pred_test),\n",
    "        'RMSE (Train)': np.sqrt(mean_squared_error(y_train, y_pred_train)),\n",
    "        'RMSE (Test)': np.sqrt(mean_squared_error(y_test, y_pred_test)),\n",
    "        'MAE (Train)': mean_absolute_error(y_train, y_pred_train),\n",
    "        'MAE (Test)': mean_absolute_error(y_test, y_pred_test)\n",
    "    }\n",
    "    \n",
    "    return model, metrics, (y_test, y_pred_test)\n",
    "\n"
   ]
  },
  {
   "cell_type": "markdown",
   "metadata": {},
   "source": [
    "### Main execution"
   ]
  },
  {
   "cell_type": "code",
   "execution_count": null,
   "metadata": {},
   "outputs": [
    {
     "name": "stdout",
     "output_type": "stream",
     "text": [
      "\n",
      "Model Performance Metrics:\n",
      "R2 Score (Train): 0.7739\n",
      "R2 Score (Test): 0.8171\n",
      "RMSE (Train): 0.4333\n",
      "RMSE (Test): 0.4055\n",
      "MAE (Train): 0.2637\n",
      "MAE (Test): 0.2531\n",
      "\n",
      "Feature Importances (Standardized Coefficients):\n",
      "            Feature  Coefficient\n",
      "4        smoker_bmi     0.591400\n",
      "0               age     0.547714\n",
      "8  region_southeast    -0.146986\n",
      "9  region_southwest    -0.135277\n",
      "6        smoker_yes     0.125476\n",
      "2          children     0.113663\n",
      "5          sex_male    -0.089268\n",
      "3           age_bmi    -0.075814\n",
      "7  region_northwest    -0.065620\n",
      "1               bmi     0.054776\n"
     ]
    }
   ],
   "source": [
    "\n",
    "# 1. Preprocess the data\n",
    "df_processed = preprocess_data(df)\n",
    "\n",
    "# 2. Build and evaluate the model\n",
    "model, metrics, (y_test, y_pred_test) = build_and_evaluate_model(df_processed)\n",
    "\n",
    "# Print metrics\n",
    "print(\"\\nModel Performance Metrics:\")\n",
    "for metric, value in metrics.items():\n",
    "    print(f\"{metric}: {value:.4f}\")\n",
    "\n",
    "# Calculate and print feature importances\n",
    "feature_names = (\n",
    "    ['age', 'bmi', 'children', 'age_bmi', 'smoker_bmi'] +\n",
    "    ['sex_male'] +\n",
    "    ['smoker_yes'] +\n",
    "    ['region_northwest', 'region_southeast', 'region_southwest']\n",
    ")\n",
    "\n",
    "coefficients = pd.DataFrame({\n",
    "    'Feature': feature_names,\n",
    "    'Coefficient': model.named_steps['regressor'].coef_\n",
    "})\n",
    "coefficients = coefficients.sort_values('Coefficient', key=abs, ascending=False)\n",
    "\n",
    "print(\"\\nFeature Importances (Standardized Coefficients):\")\n",
    "print(coefficients)\n",
    "\n"
   ]
  },
  {
   "cell_type": "markdown",
   "metadata": {},
   "source": [
    "Model Performance:\n",
    "- Training R² Score: 0.7739 (77.39% variance explained)\n",
    "\n",
    "- Test R² Score: 0.8171 (81.71% variance explained)\n",
    "\n",
    "- Training RMSE: 0.4333\n",
    "\n",
    "- Test RMSE: 0.4055\n",
    "\n",
    "- Training MAE: 0.2637\n",
    "\n",
    "- Test MAE: 0.2531\n",
    "\n",
    "Key Observations:\n",
    "1. The model performs well, with similar performance on training and test sets\n",
    "\n",
    "2. High R² indicates good predictive power\n",
    "\n",
    "3. Low RMSE and MAE suggest accurate predictions\n",
    "\n",
    "Top Feature Importances (by absolute coefficient value):\n",
    "1. Smoker BMI (0.5914): Strongest predictor\n",
    "\n",
    "2. Age (0.5477): Second most important feature\n",
    "\n",
    "3. Region (Southeast and Southwest have negative impacts)\n",
    "\n",
    "4. Smoker status (0.1255)\n",
    "\n",
    "5. Number of children (0.1137)\n",
    "\n",
    "The model suggests that smoking status, BMI, age, and region significantly influence insurance charges, with interaction terms like smoker_bmi providing key insights."
   ]
  },
  {
   "cell_type": "code",
   "execution_count": null,
   "metadata": {},
   "outputs": [],
   "source": []
  }
 ],
 "metadata": {
  "kernelspec": {
   "display_name": "Python 3",
   "language": "python",
   "name": "python3"
  },
  "language_info": {
   "codemirror_mode": {
    "name": "ipython",
    "version": 3
   },
   "file_extension": ".py",
   "mimetype": "text/x-python",
   "name": "python",
   "nbconvert_exporter": "python",
   "pygments_lexer": "ipython3",
   "version": "3.10.0"
  }
 },
 "nbformat": 4,
 "nbformat_minor": 2
}
